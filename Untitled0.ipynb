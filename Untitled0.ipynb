{
  "nbformat": 4,
  "nbformat_minor": 0,
  "metadata": {
    "colab": {
      "provenance": [],
      "gpuType": "T4"
    },
    "kernelspec": {
      "name": "python3",
      "display_name": "Python 3"
    },
    "language_info": {
      "name": "python"
    },
    "accelerator": "GPU"
  },
  "cells": [
    {
      "cell_type": "code",
      "execution_count": 97,
      "metadata": {
        "id": "jRVT_n8OZlZ2"
      },
      "outputs": [],
      "source": [
        "import torch\n",
        "import torchvision\n",
        "import numpy as np\n",
        "import matplotlib\n",
        "import matplotlib.pyplot as plt\n",
        "import torch.nn as nn\n",
        "import torch.nn.functional as F\n",
        "from torchvision.datasets import MNIST\n",
        "from torchvision.transforms import ToTensor\n",
        "from torchvision.utils import make_grid\n",
        "from torch.utils.data.dataloader import DataLoader\n",
        "from torch.utils.data import random_split\n",
        "%matplotlib inline\n",
        "# Use a white background for matplotlib figures\n",
        "matplotlib.rcParams['figure.facecolor'] = '#ffffff'"
      ]
    },
    {
      "cell_type": "code",
      "source": [
        "dataset = MNIST(root='data/',download =True,transform = ToTensor())\n",
        "\n",
        "#Splitting dataset to train and validaion\n",
        "\n",
        "val_size = 10000\n",
        "\n",
        "train_size = len(dataset) - val_size\n",
        "\n",
        "train_set,val_set = random_split(dataset,[train_size,val_size])"
      ],
      "metadata": {
        "id": "QFfqN7fOaj4R"
      },
      "execution_count": 98,
      "outputs": []
    },
    {
      "cell_type": "code",
      "source": [
        "batch_size = 128\n",
        "train_loader = DataLoader(train_set,batch_size=128,shuffle=True,num_workers=2,pin_memory =True)\n",
        "val_loader = DataLoader(val_set,batch_size=256,shuffle=True,num_workers=2,pin_memory=True)"
      ],
      "metadata": {
        "id": "k-7rQWTWbR2R"
      },
      "execution_count": 99,
      "outputs": []
    },
    {
      "cell_type": "code",
      "source": [
        "class Mnistmodel(nn.Module):\n",
        "  def __init__(self,input_size,hidden_size,out_size):\n",
        "    super().__init__()\n",
        "    ##hidden layer\n",
        "    self.linear1 = nn.Linear(input_size,hidden_size)\n",
        "    ## Output layer\n",
        "    self.linear2 = nn.Linear(hidden_size,out_size)\n",
        "  def forward(self,xb):\n",
        "    xb = xb.view(xb.size(0),-1)\n",
        "    # Output of hidden layer\n",
        "    out = self.linear1(xb)\n",
        "    #Applying Relu activation on output of hidden layer\n",
        "    rel = F.relu(out)\n",
        "    # Final output\n",
        "    out  = self.linear2(rel)\n",
        "    return out\n",
        "  def training_step(self,batch):\n",
        "    \"\"\" Returns loss for a training data\"\"\"\n",
        "    images,labels = batch\n",
        "    out = self(images)\n",
        "    loss = F.cross_entropy(out,labels)\n",
        "    return loss\n",
        "  def validation_step(self,batch):\n",
        "    \"\"\"Finding loss and accuracy for a batch of validation data\"\"\"\n",
        "    images,labels = batch\n",
        "    out = self(images)\n",
        "    loss = F.cross_entropy(out,labels)\n",
        "    acc = accuracy(out,labels)\n",
        "    return {'val_loss':loss,'val_acc':acc}\n",
        "  def validation_epoch_end(self,outputs):\n",
        "    batch_losses = [x['val_loss'] for x in outputs]\n",
        "    epoch_loss = torch.stack(batch_losses).mean()\n",
        "    batch_accuracy = [x['val_acc'] for x in outputs]\n",
        "    epoch_accuracy = torch.stack(batch_accuracy).mean()\n",
        "    return {'val_loss':epoch_loss,'val_acc':epoch_accuracy}\n",
        "  def epoch_end(self,epoch,result):\n",
        "    print(\"Epoch [{}], val_loss: {:.4f}, val_acc: {:.4f}\".format(epoch, result['val_loss'], result['val_acc']))"
      ],
      "metadata": {
        "id": "jvNJ57tkbp_J"
      },
      "execution_count": 100,
      "outputs": []
    },
    {
      "cell_type": "code",
      "source": [
        "torch.cuda.is_available()"
      ],
      "metadata": {
        "colab": {
          "base_uri": "https://localhost:8080/"
        },
        "id": "nQuuCsKQlWcm",
        "outputId": "9bf1da1b-937b-4d65-a741-a7d35b5f7969"
      },
      "execution_count": 109,
      "outputs": [
        {
          "output_type": "execute_result",
          "data": {
            "text/plain": [
              "True"
            ]
          },
          "metadata": {},
          "execution_count": 109
        }
      ]
    },
    {
      "cell_type": "code",
      "source": [
        "def accuracy(outputs, labels):\n",
        "    _, preds = torch.max(outputs, dim=1)\n",
        "    return torch.tensor(torch.sum(preds == labels).item() / len(preds))"
      ],
      "metadata": {
        "id": "ihbOB6wSlIgQ"
      },
      "execution_count": 101,
      "outputs": []
    },
    {
      "cell_type": "code",
      "source": [
        "def get_default_device():\n",
        "    \"\"\"Picking GPU if available or else CPU\"\"\"\n",
        "    if torch.cuda.is_available():\n",
        "        return torch.device('cuda')\n",
        "    else:\n",
        "        return torch.device('cpu')\n",
        "\n",
        "device = get_default_device()"
      ],
      "metadata": {
        "id": "7zItyIdJcIFV"
      },
      "execution_count": 102,
      "outputs": []
    },
    {
      "cell_type": "code",
      "source": [
        "def to_device(data, device):\n",
        "    \"\"\"Move tensor(s) to chosen device\"\"\"\n",
        "    if isinstance(data, (list,tuple)):\n",
        "        return [to_device(x, device) for x in data]\n",
        "    return data.to(device, non_blocking=True)"
      ],
      "metadata": {
        "id": "q9F5EIuScYZO"
      },
      "execution_count": 103,
      "outputs": []
    },
    {
      "cell_type": "code",
      "source": [
        "class DevicedataLoader():\n",
        "    def __init__(self,dl,device):\n",
        "        self.dl = dl\n",
        "        self.device = device\n",
        "    def __iter__(self):\n",
        "        for b in self.dl:\n",
        "            yield to_device(b, self.device)\n",
        "    def __len__(self):\n",
        "        return len(self.dl)\n",
        "\n",
        "train_loader = DevicedataLoader(train_loader,device)\n",
        "val_loader = DevicedataLoader(val_loader,device)"
      ],
      "metadata": {
        "id": "mj81x0mrc3i5"
      },
      "execution_count": 104,
      "outputs": []
    },
    {
      "cell_type": "code",
      "source": [
        "def fit(epochs,lr,model,train_loader,val_loader,opt_func = torch.optim.SGD):\n",
        "  history = []\n",
        "  optimizer = opt_func(model.parameters(),lr)\n",
        "  for epoch in range(epochs):\n",
        "    #training phase\n",
        "    for batch in train_loader:\n",
        "      loss = model.training_step(batch)\n",
        "      loss.backward()\n",
        "      optimizer.step()\n",
        "      optimizer.zero_grad()\n",
        "    #Validation phase\n",
        "    result = evaluate(model,val_loader)\n",
        "    model.epoch_end(epoch,result)# Result after each epoch\n",
        "    history.append(result)\n",
        "  return history\n",
        "def evaluate(model,val_loader):\n",
        "    outputs = [model.validation_step(batch) for batch in val_loader]\n",
        "    return model.validation_epoch_end(outputs)"
      ],
      "metadata": {
        "id": "tqF-AwUVdGHn"
      },
      "execution_count": 105,
      "outputs": []
    },
    {
      "cell_type": "code",
      "source": [
        "num_classes =10\n",
        "model = Mnistmodel(input_size =784 ,hidden_size=32,out_size= num_classes)\n",
        "to_device(model,device)"
      ],
      "metadata": {
        "colab": {
          "base_uri": "https://localhost:8080/"
        },
        "id": "m0jwdFX4deS0",
        "outputId": "228dd64a-d838-4433-d61b-d6b6f67ef1b4"
      },
      "execution_count": 106,
      "outputs": [
        {
          "output_type": "execute_result",
          "data": {
            "text/plain": [
              "Mnistmodel(\n",
              "  (linear1): Linear(in_features=784, out_features=32, bias=True)\n",
              "  (linear2): Linear(in_features=32, out_features=10, bias=True)\n",
              ")"
            ]
          },
          "metadata": {},
          "execution_count": 106
        }
      ]
    },
    {
      "cell_type": "code",
      "source": [
        "history = [evaluate(model,val_loader)]\n",
        "print(history)"
      ],
      "metadata": {
        "colab": {
          "base_uri": "https://localhost:8080/"
        },
        "id": "sQGZoyffeM3N",
        "outputId": "7f0532ad-7c82-401b-9ed6-35ef9f043141"
      },
      "execution_count": 107,
      "outputs": [
        {
          "output_type": "stream",
          "name": "stdout",
          "text": [
            "[{'val_loss': tensor(2.3143, device='cuda:0', grad_fn=<MeanBackward0>), 'val_acc': tensor(0.0856)}]\n"
          ]
        }
      ]
    },
    {
      "cell_type": "code",
      "source": [
        "history += fit(5, 0.5, model, train_loader, val_loader)"
      ],
      "metadata": {
        "colab": {
          "base_uri": "https://localhost:8080/"
        },
        "id": "V76ZeDGjd2xs",
        "outputId": "c4c039af-9559-4ddf-d85d-56311582adc4"
      },
      "execution_count": 108,
      "outputs": [
        {
          "output_type": "stream",
          "name": "stdout",
          "text": [
            "Epoch [0], val_loss: 0.2197, val_acc: 0.9347\n",
            "Epoch [1], val_loss: 0.1826, val_acc: 0.9478\n",
            "Epoch [2], val_loss: 0.1535, val_acc: 0.9564\n",
            "Epoch [3], val_loss: 0.1523, val_acc: 0.9581\n",
            "Epoch [4], val_loss: 0.1349, val_acc: 0.9630\n"
          ]
        }
      ]
    },
    {
      "cell_type": "code",
      "source": [
        "history += fit(5, 0.1, model, train_loader, val_loader)"
      ],
      "metadata": {
        "colab": {
          "base_uri": "https://localhost:8080/"
        },
        "id": "0Abpp9dul-v0",
        "outputId": "bc14467e-0c33-49cb-d16e-399f8c1a7b38"
      },
      "execution_count": 110,
      "outputs": [
        {
          "output_type": "stream",
          "name": "stdout",
          "text": [
            "Epoch [0], val_loss: 0.1242, val_acc: 0.9660\n",
            "Epoch [1], val_loss: 0.1220, val_acc: 0.9664\n",
            "Epoch [2], val_loss: 0.1231, val_acc: 0.9664\n",
            "Epoch [3], val_loss: 0.1227, val_acc: 0.9648\n",
            "Epoch [4], val_loss: 0.1189, val_acc: 0.9670\n"
          ]
        }
      ]
    }
  ]
}